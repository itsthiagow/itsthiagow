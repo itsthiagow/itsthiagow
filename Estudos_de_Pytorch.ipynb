{
  "nbformat": 4,
  "nbformat_minor": 0,
  "metadata": {
    "colab": {
      "provenance": [],
      "authorship_tag": "ABX9TyN/jNsAgcZRYTenjBtb0ZJO"
    },
    "kernelspec": {
      "name": "python3",
      "display_name": "Python 3"
    },
    "language_info": {
      "name": "python"
    }
  },
  "cells": [
    {
      "cell_type": "markdown",
      "source": [
        "###Importando o torch"
      ],
      "metadata": {
        "id": "iw6vssvMEOGV"
      }
    },
    {
      "cell_type": "code",
      "source": [
        "import torch\n",
        "print(torch.__version__)"
      ],
      "metadata": {
        "colab": {
          "base_uri": "https://localhost:8080/"
        },
        "id": "yVfac4MI0faA",
        "outputId": "5f7b6787-04c0-4792-fbd0-63044c411e60"
      },
      "execution_count": 34,
      "outputs": [
        {
          "output_type": "stream",
          "name": "stdout",
          "text": [
            "2.1.0+cu121\n"
          ]
        }
      ]
    },
    {
      "cell_type": "markdown",
      "source": [
        "##Tensores no Pytorch são criados com torch.tensor"
      ],
      "metadata": {
        "id": "xqo2W4P52fif"
      }
    },
    {
      "cell_type": "markdown",
      "source": [
        "##Tensors (ou tensores) são uma forma numérica de representar dados\n",
        "\n",
        "###Tipos de tensores:\n",
        "\n",
        "#SCALAR"
      ],
      "metadata": {
        "id": "8p5At7-52sEi"
      }
    },
    {
      "cell_type": "markdown",
      "source": [],
      "metadata": {
        "id": "Sg79_fXsdsme"
      }
    },
    {
      "cell_type": "markdown",
      "source": [
        "######Representar uma certa interação"
      ],
      "metadata": {
        "id": "UWtqr_ukyLsv"
      }
    },
    {
      "cell_type": "code",
      "source": [
        "# scalar\n",
        "scalar = torch.tensor(7)\n",
        "scalar"
      ],
      "metadata": {
        "colab": {
          "base_uri": "https://localhost:8080/"
        },
        "id": "csI2SiF81-rg",
        "outputId": "a9e2829a-eb81-4a91-8f92-faeebfcbbbcd"
      },
      "execution_count": 35,
      "outputs": [
        {
          "output_type": "execute_result",
          "data": {
            "text/plain": [
              "tensor(7)"
            ]
          },
          "metadata": {},
          "execution_count": 35
        }
      ]
    },
    {
      "cell_type": "markdown",
      "source": [
        "#VECTOR"
      ],
      "metadata": {
        "id": "n6OjD9W5Ef5p"
      }
    },
    {
      "cell_type": "code",
      "source": [
        "# vector\n",
        "vector = torch.tensor([7, 7])\n",
        "vector.ndim"
      ],
      "metadata": {
        "colab": {
          "base_uri": "https://localhost:8080/"
        },
        "id": "SmEeE25a3pD4",
        "outputId": "ee63cc37-a811-4826-ef04-05c692d03fdc"
      },
      "execution_count": 36,
      "outputs": [
        {
          "output_type": "execute_result",
          "data": {
            "text/plain": [
              "1"
            ]
          },
          "metadata": {},
          "execution_count": 36
        }
      ]
    },
    {
      "cell_type": "code",
      "source": [
        "#MATRIX"
      ],
      "metadata": {
        "id": "XGy1lR9-EiDz"
      },
      "execution_count": null,
      "outputs": []
    },
    {
      "cell_type": "code",
      "source": [
        "# MATRIX\n",
        "\n",
        "MATRIX = torch.tensor([[7, 8],\n",
        "                       [9, 10]])\n",
        "MATRIX\n"
      ],
      "metadata": {
        "colab": {
          "base_uri": "https://localhost:8080/"
        },
        "id": "cld4Xgbi44M5",
        "outputId": "8d5ac637-ccc0-4aa6-a975-9e846489b54b"
      },
      "execution_count": 37,
      "outputs": [
        {
          "output_type": "execute_result",
          "data": {
            "text/plain": [
              "tensor([[ 7,  8],\n",
              "        [ 9, 10]])"
            ]
          },
          "metadata": {},
          "execution_count": 37
        }
      ]
    },
    {
      "cell_type": "markdown",
      "source": [
        "#TENSOR"
      ],
      "metadata": {
        "id": "PvDDdZSUElk2"
      }
    },
    {
      "cell_type": "code",
      "source": [
        "#TENSOR\n",
        "\n",
        "TENSOR = torch.tensor([[[1, 2, 3],\n",
        "                       [3, 6, 9],\n",
        "                       [2, 4, 5]]])\n",
        "TENSOR\n"
      ],
      "metadata": {
        "colab": {
          "base_uri": "https://localhost:8080/"
        },
        "id": "41VcgJ6BBb8r",
        "outputId": "44ce2bf0-ebfb-4f51-a6d5-b2a82d179c7b"
      },
      "execution_count": 38,
      "outputs": [
        {
          "output_type": "execute_result",
          "data": {
            "text/plain": [
              "tensor([[[1, 2, 3],\n",
              "         [3, 6, 9],\n",
              "         [2, 4, 5]]])"
            ]
          },
          "metadata": {},
          "execution_count": 38
        }
      ]
    },
    {
      "cell_type": "code",
      "source": [
        "TENSOR.ndim, TENSOR.shape"
      ],
      "metadata": {
        "colab": {
          "base_uri": "https://localhost:8080/"
        },
        "id": "ce4VxZHuB3AF",
        "outputId": "43af0dd2-f058-4a08-9052-3ee6b8d63d11"
      },
      "execution_count": 39,
      "outputs": [
        {
          "output_type": "execute_result",
          "data": {
            "text/plain": [
              "(3, torch.Size([1, 3, 3]))"
            ]
          },
          "metadata": {},
          "execution_count": 39
        }
      ]
    },
    {
      "cell_type": "markdown",
      "source": [
        "###Tensor aleatório"
      ],
      "metadata": {
        "id": "lVa3OEhQDjVE"
      }
    },
    {
      "cell_type": "code",
      "source": [
        "random_tensor = torch.rand(2, 5, 4)\n",
        "random_tensor, TENSOR.shape, TENSOR.ndim\n"
      ],
      "metadata": {
        "colab": {
          "base_uri": "https://localhost:8080/"
        },
        "id": "MuK1Noyyt66A",
        "outputId": "e31c5b3a-b095-44db-8059-de25f3194675"
      },
      "execution_count": 40,
      "outputs": [
        {
          "output_type": "execute_result",
          "data": {
            "text/plain": [
              "(tensor([[[0.8694, 0.5677, 0.7411, 0.4294],\n",
              "          [0.8854, 0.5739, 0.2666, 0.6274],\n",
              "          [0.2696, 0.4414, 0.2969, 0.8317],\n",
              "          [0.1053, 0.2695, 0.3588, 0.1994],\n",
              "          [0.5472, 0.0062, 0.9516, 0.0753]],\n",
              " \n",
              "         [[0.8860, 0.5832, 0.3376, 0.8090],\n",
              "          [0.5779, 0.9040, 0.5547, 0.3423],\n",
              "          [0.6343, 0.3644, 0.7104, 0.9464],\n",
              "          [0.7890, 0.2814, 0.7886, 0.5895],\n",
              "          [0.7539, 0.1952, 0.0050, 0.3068]]]),\n",
              " torch.Size([1, 3, 3]),\n",
              " 3)"
            ]
          },
          "metadata": {},
          "execution_count": 40
        }
      ]
    },
    {
      "cell_type": "markdown",
      "source": [
        "Tensores de Ones & Zeros"
      ],
      "metadata": {
        "id": "wJVURmLQD75q"
      }
    },
    {
      "cell_type": "code",
      "source": [
        "ones = torch.ones(size=(6, 7))\n",
        "zeros = torch.zeros(size=(6, 7))\n",
        "ones, zeros"
      ],
      "metadata": {
        "colab": {
          "base_uri": "https://localhost:8080/"
        },
        "id": "4pxXjxgxxqLe",
        "outputId": "71e37a03-395d-4686-f029-9bd4711853e1"
      },
      "execution_count": 41,
      "outputs": [
        {
          "output_type": "execute_result",
          "data": {
            "text/plain": [
              "(tensor([[1., 1., 1., 1., 1., 1., 1.],\n",
              "         [1., 1., 1., 1., 1., 1., 1.],\n",
              "         [1., 1., 1., 1., 1., 1., 1.],\n",
              "         [1., 1., 1., 1., 1., 1., 1.],\n",
              "         [1., 1., 1., 1., 1., 1., 1.],\n",
              "         [1., 1., 1., 1., 1., 1., 1.]]),\n",
              " tensor([[0., 0., 0., 0., 0., 0., 0.],\n",
              "         [0., 0., 0., 0., 0., 0., 0.],\n",
              "         [0., 0., 0., 0., 0., 0., 0.],\n",
              "         [0., 0., 0., 0., 0., 0., 0.],\n",
              "         [0., 0., 0., 0., 0., 0., 0.],\n",
              "         [0., 0., 0., 0., 0., 0., 0.]]))"
            ]
          },
          "metadata": {},
          "execution_count": 41
        }
      ]
    },
    {
      "cell_type": "markdown",
      "source": [
        "###Pegar informação de tensores\n",
        "\n",
        "1. datatype (float, int, string) - tensor.dtype\n",
        "2. shape - tensor.shape\n",
        "3. device (gpu ou cpu)  - tensor.device"
      ],
      "metadata": {
        "id": "b5KN0CJw4GV8"
      }
    },
    {
      "cell_type": "code",
      "source": [
        "# criando tensor\n",
        "some_tensor = torch.rand(5, 4)\n",
        "some_tensor"
      ],
      "metadata": {
        "colab": {
          "base_uri": "https://localhost:8080/"
        },
        "id": "PE0qSsb747lf",
        "outputId": "e0864804-4e64-4c36-cf58-2da33a53bac2"
      },
      "execution_count": 42,
      "outputs": [
        {
          "output_type": "execute_result",
          "data": {
            "text/plain": [
              "tensor([[0.1165, 0.9103, 0.6440, 0.7071],\n",
              "        [0.6581, 0.4913, 0.8913, 0.1447],\n",
              "        [0.5315, 0.1587, 0.6542, 0.3278],\n",
              "        [0.6532, 0.3958, 0.9147, 0.2036],\n",
              "        [0.2018, 0.2018, 0.9497, 0.6666]])"
            ]
          },
          "metadata": {},
          "execution_count": 42
        }
      ]
    },
    {
      "cell_type": "code",
      "source": [
        "#Achar detalhes do tensor\n",
        "\n",
        "print(some_tensor)\n",
        "print(f\"Dataype do tensor: {some_tensor.dtype}\")\n",
        "print(f\"Shape do tensor: {some_tensor.shape}\")\n",
        "print(f\"Device do tensor: {some_tensor.device}\")"
      ],
      "metadata": {
        "colab": {
          "base_uri": "https://localhost:8080/"
        },
        "id": "aNiuehPd6Kpd",
        "outputId": "cedcadcb-7765-4ee2-8111-6eb50b942c4d"
      },
      "execution_count": 43,
      "outputs": [
        {
          "output_type": "stream",
          "name": "stdout",
          "text": [
            "tensor([[0.1165, 0.9103, 0.6440, 0.7071],\n",
            "        [0.6581, 0.4913, 0.8913, 0.1447],\n",
            "        [0.5315, 0.1587, 0.6542, 0.3278],\n",
            "        [0.6532, 0.3958, 0.9147, 0.2036],\n",
            "        [0.2018, 0.2018, 0.9497, 0.6666]])\n",
            "Dataype do tensor: torch.float32\n",
            "Shape do tensor: torch.Size([5, 4])\n",
            "Device do tensor: cpu\n"
          ]
        }
      ]
    },
    {
      "cell_type": "markdown",
      "source": [
        "###Manipulação de tensores (operações com tensor)\n",
        "\n",
        "- Adicção\n",
        "- Subtração\n",
        "- Multicação (element-wise)\n",
        "- Divisão\n",
        "- Multiplicação de Matrix"
      ],
      "metadata": {
        "id": "co-dnYWcCPYM"
      }
    },
    {
      "cell_type": "code",
      "source": [
        "#Soma com tensor\n",
        "\n",
        "tensor = torch.tensor([1, 2, 3])\n",
        "tensor + 50"
      ],
      "metadata": {
        "colab": {
          "base_uri": "https://localhost:8080/"
        },
        "id": "rEOBueDoCrhU",
        "outputId": "4c9a9cba-3eec-4b6e-f794-879c85a02ff0"
      },
      "execution_count": 44,
      "outputs": [
        {
          "output_type": "execute_result",
          "data": {
            "text/plain": [
              "tensor([51, 52, 53])"
            ]
          },
          "metadata": {},
          "execution_count": 44
        }
      ]
    },
    {
      "cell_type": "code",
      "source": [
        "#Subtração com tensor\n",
        "\n",
        "tensor = torch.tensor([1, 2, 3])\n",
        "tensor - 40"
      ],
      "metadata": {
        "colab": {
          "base_uri": "https://localhost:8080/"
        },
        "outputId": "0c8ffa8a-02c5-4454-a322-86432d5d9e95",
        "id": "F3LE8NXNF6Ys"
      },
      "execution_count": 45,
      "outputs": [
        {
          "output_type": "execute_result",
          "data": {
            "text/plain": [
              "tensor([-39, -38, -37])"
            ]
          },
          "metadata": {},
          "execution_count": 45
        }
      ]
    },
    {
      "cell_type": "code",
      "source": [
        "#Multiplicando tensor\n",
        "\n",
        "tensor = tensor * 30\n",
        "tensor"
      ],
      "metadata": {
        "colab": {
          "base_uri": "https://localhost:8080/"
        },
        "id": "r1TTAPhQDQFA",
        "outputId": "3c85731d-5cf7-49cc-d744-dd8c0c82858d"
      },
      "execution_count": 46,
      "outputs": [
        {
          "output_type": "execute_result",
          "data": {
            "text/plain": [
              "tensor([30, 60, 90])"
            ]
          },
          "metadata": {},
          "execution_count": 46
        }
      ]
    },
    {
      "cell_type": "code",
      "source": [
        "torch.mul(tensor, 10)"
      ],
      "metadata": {
        "colab": {
          "base_uri": "https://localhost:8080/"
        },
        "id": "NwDEXgVPGHUy",
        "outputId": "fe934886-f784-4a0d-d320-c455455f14cf"
      },
      "execution_count": 47,
      "outputs": [
        {
          "output_type": "execute_result",
          "data": {
            "text/plain": [
              "tensor([300, 600, 900])"
            ]
          },
          "metadata": {},
          "execution_count": 47
        }
      ]
    },
    {
      "cell_type": "markdown",
      "source": [
        "####Multiplicação de matrix\n",
        "\n",
        "- Existem 2 jeitos principais de multiplicação nos neural networks e deep learning\n",
        "\n",
        "1. Element-wise multiplication\n",
        "2. Matrix de multiplicação (dot product)\n",
        "\n",
        "- +Info: https://www.mathsisfun.com/algebra/matrix-multiplying.html\n",
        "\n",
        "- Existem duas regras principais enquanto performar a multiplicação de matrix\n",
        "\n",
        "1. As dimensões de dentro (inner dimensions) tem que dar match com as mesmas:\n",
        "\n",
        "- (3, 2) @ (3, 2) não funciona.\n",
        "- (2, 3) @ (3, 2) funciona.\n",
        "- (3, 2) @ (2, 3) funciona.\n",
        "\n",
        "2. A matrix resultante tem o formato de dimensão de fora(outer dimension)\n",
        "\n",
        "- (2, 3) @ (3, 2) -> (2, 2)\n",
        "- (3, 2) @ (2, 3) -> (3, 3)"
      ],
      "metadata": {
        "id": "yErSukGFG08c"
      }
    },
    {
      "cell_type": "code",
      "source": [
        "torch.matmul(torch.rand(2, 3), torch.rand(3,2))"
      ],
      "metadata": {
        "colab": {
          "base_uri": "https://localhost:8080/"
        },
        "id": "8h5_JAFJITeh",
        "outputId": "69ad9364-d359-42f7-c681-f9decb3585eb"
      },
      "execution_count": null,
      "outputs": [
        {
          "output_type": "execute_result",
          "data": {
            "text/plain": [
              "tensor([[1.0791, 0.8329],\n",
              "        [1.1537, 0.7238]])"
            ]
          },
          "metadata": {},
          "execution_count": 30
        }
      ]
    },
    {
      "cell_type": "code",
      "source": [
        "#Element wise multiplication\n",
        "print(tensor, \"*\", tensor)\n",
        "print(f\"Igual: {tensor * tensor}\")"
      ],
      "metadata": {
        "colab": {
          "base_uri": "https://localhost:8080/"
        },
        "id": "injUJpAc7nns",
        "outputId": "beb5b70e-b61a-4edf-94fc-344031f49b5b"
      },
      "execution_count": 48,
      "outputs": [
        {
          "output_type": "stream",
          "name": "stdout",
          "text": [
            "tensor([30, 60, 90]) * tensor([30, 60, 90])\n",
            "Igual: tensor([ 900, 3600, 8100])\n"
          ]
        }
      ]
    },
    {
      "cell_type": "markdown",
      "source": [
        " - Diferente do element wise que só nos dá os números multiplicados, ele os soma no total também ⇩"
      ],
      "metadata": {
        "id": "Xr5b9qXU9F5f"
      }
    },
    {
      "cell_type": "code",
      "source": [
        "#Matrix de multiplicação\n",
        "torch.matmul(tensor, tensor)"
      ],
      "metadata": {
        "colab": {
          "base_uri": "https://localhost:8080/"
        },
        "id": "ussPiwz58zw_",
        "outputId": "428f6627-b1a2-4a5e-9288-b3a39068734e"
      },
      "execution_count": 50,
      "outputs": [
        {
          "output_type": "execute_result",
          "data": {
            "text/plain": [
              "tensor(12600)"
            ]
          },
          "metadata": {},
          "execution_count": 50
        }
      ]
    },
    {
      "cell_type": "code",
      "source": [
        "tensor"
      ],
      "metadata": {
        "colab": {
          "base_uri": "https://localhost:8080/"
        },
        "id": "caA0V3D6-Vfd",
        "outputId": "5d459c22-4b56-4957-9c44-3b3b5810062d"
      },
      "execution_count": 51,
      "outputs": [
        {
          "output_type": "execute_result",
          "data": {
            "text/plain": [
              "tensor([30, 60, 90])"
            ]
          },
          "metadata": {},
          "execution_count": 51
        }
      ]
    },
    {
      "cell_type": "code",
      "source": [
        "# Matrix de multiplicação feita a mão (by hand)\n",
        "\n",
        "1*1 + 2*2 + 3*3"
      ],
      "metadata": {
        "colab": {
          "base_uri": "https://localhost:8080/"
        },
        "id": "cQz0DRH--nl4",
        "outputId": "ec39b6a2-2909-4098-b6d7-9a4d86d9b2ee"
      },
      "execution_count": null,
      "outputs": [
        {
          "output_type": "execute_result",
          "data": {
            "text/plain": [
              "14"
            ]
          },
          "metadata": {},
          "execution_count": 8
        }
      ]
    },
    {
      "cell_type": "code",
      "source": [
        "%%time\n",
        "value = 0\n",
        "for i in range(len(tensor)):\n",
        "    value += tensor[i] * tensor[i]\n",
        "print(value)"
      ],
      "metadata": {
        "id": "IlzOok8f_L8a",
        "colab": {
          "base_uri": "https://localhost:8080/"
        },
        "outputId": "0a754320-e9b2-45f2-f519-5e3beefb3613"
      },
      "execution_count": 52,
      "outputs": [
        {
          "output_type": "stream",
          "name": "stdout",
          "text": [
            "tensor(12600)\n",
            "CPU times: user 1.13 ms, sys: 0 ns, total: 1.13 ms\n",
            "Wall time: 1.29 ms\n"
          ]
        }
      ]
    },
    {
      "cell_type": "markdown",
      "source": [
        "###Pra consertar erros no shape, dá pra manipular o shape de um dos nossos tensores usando transposição (transpose).\n",
        "\n",
        "A transpose troca as dimensões ou eixos do tensor dado."
      ],
      "metadata": {
        "id": "m1xx-W9mjXpx"
      }
    },
    {
      "cell_type": "code",
      "source": [
        "#Reproducibility (Fazendo o random no random)\n",
        "\n",
        "torch.rand(4, 4)"
      ],
      "metadata": {
        "colab": {
          "base_uri": "https://localhost:8080/"
        },
        "id": "37hQ6FMwdwzY",
        "outputId": "2f043832-973b-4034-a05e-331b6f4d5494"
      },
      "execution_count": 53,
      "outputs": [
        {
          "output_type": "execute_result",
          "data": {
            "text/plain": [
              "tensor([[0.9811, 0.0874, 0.0041, 0.1088],\n",
              "        [0.1637, 0.7025, 0.6790, 0.9155],\n",
              "        [0.2418, 0.1591, 0.7653, 0.2979],\n",
              "        [0.8035, 0.3813, 0.7860, 0.1115]])"
            ]
          },
          "metadata": {},
          "execution_count": 53
        }
      ]
    },
    {
      "cell_type": "code",
      "source": [
        "#Colocando random seed(false)\n",
        "\n",
        "RANDOM_SEED = 42\n",
        "torch.manual_seed(RANDOM_SEED)\n",
        "\n",
        "random_tensor_A = torch.rand(3, 4)\n",
        "random_tensor_B = torch.rand(3, 4)\n",
        "\n",
        "print(random_tensor_A)\n",
        "print(random_tensor_B)\n",
        "print(random_tensor_A == random_tensor_B)"
      ],
      "metadata": {
        "colab": {
          "base_uri": "https://localhost:8080/"
        },
        "id": "7NFP0j2sgVqe",
        "outputId": "c5aec780-240c-422d-a95d-efe9256b9902"
      },
      "execution_count": 29,
      "outputs": [
        {
          "output_type": "stream",
          "name": "stdout",
          "text": [
            "tensor([[0.8823, 0.9150, 0.3829, 0.9593],\n",
            "        [0.3904, 0.6009, 0.2566, 0.7936],\n",
            "        [0.9408, 0.1332, 0.9346, 0.5936]])\n",
            "tensor([[0.8694, 0.5677, 0.7411, 0.4294],\n",
            "        [0.8854, 0.5739, 0.2666, 0.6274],\n",
            "        [0.2696, 0.4414, 0.2969, 0.8317]])\n",
            "tensor([[False, False, False, False],\n",
            "        [False, False, False, False],\n",
            "        [False, False, False, False]])\n"
          ]
        }
      ]
    },
    {
      "cell_type": "code",
      "source": [
        "#Colocando random seed(true)\n",
        "\n",
        "RANDOM_SEED = 42\n",
        "torch.manual_seed(RANDOM_SEED)\n",
        "\n",
        "random_tensor_A = torch.rand(3, 4)\n",
        "\n",
        "torch.manual_seed(RANDOM_SEED) #Colocando o manual_seed em um dos random_seed o true aparece\n",
        "random_tensor_B = torch.rand(3, 4)\n",
        "\n",
        "print(random_tensor_A)\n",
        "print(random_tensor_B)\n",
        "print(random_tensor_A == random_tensor_B)"
      ],
      "metadata": {
        "colab": {
          "base_uri": "https://localhost:8080/"
        },
        "outputId": "231f5263-b3a2-4140-ee4a-7e4db902701d",
        "id": "y6POhyOnh3vX"
      },
      "execution_count": 30,
      "outputs": [
        {
          "output_type": "stream",
          "name": "stdout",
          "text": [
            "tensor([[0.8823, 0.9150, 0.3829, 0.9593],\n",
            "        [0.3904, 0.6009, 0.2566, 0.7936],\n",
            "        [0.9408, 0.1332, 0.9346, 0.5936]])\n",
            "tensor([[0.8823, 0.9150, 0.3829, 0.9593],\n",
            "        [0.3904, 0.6009, 0.2566, 0.7936],\n",
            "        [0.9408, 0.1332, 0.9346, 0.5936]])\n",
            "tensor([[True, True, True, True],\n",
            "        [True, True, True, True],\n",
            "        [True, True, True, True]])\n"
          ]
        }
      ]
    },
    {
      "cell_type": "markdown",
      "source": [
        "##Conseguir uma GPU\n",
        "\n",
        "1 - Facil de conseguir é usando o Google collab free"
      ],
      "metadata": {
        "id": "LdILJ9hUosSd"
      }
    },
    {
      "cell_type": "code",
      "source": [
        "!nvidia-smi"
      ],
      "metadata": {
        "colab": {
          "base_uri": "https://localhost:8080/"
        },
        "id": "-17L9tvNp0xv",
        "outputId": "26d5be4c-7fde-4275-92da-4f1464c1676a"
      },
      "execution_count": 54,
      "outputs": [
        {
          "output_type": "stream",
          "name": "stdout",
          "text": [
            "/bin/bash: line 1: nvidia-smi: command not found\n"
          ]
        }
      ]
    }
  ]
}